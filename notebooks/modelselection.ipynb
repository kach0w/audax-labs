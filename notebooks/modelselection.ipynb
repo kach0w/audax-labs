{
 "cells": [
  {
   "cell_type": "markdown",
   "id": "1e7149ca",
   "metadata": {},
   "source": [
    "## Model Selection"
   ]
  },
  {
   "cell_type": "code",
   "execution_count": 12,
   "id": "7cdbf84a",
   "metadata": {},
   "outputs": [
    {
     "name": "stdout",
     "output_type": "stream",
     "text": [
      "Requirement already satisfied: imblearn in c:\\users\\karsa\\anaconda3\\lib\\site-packages (0.0)\n",
      "Requirement already satisfied: imbalanced-learn in c:\\users\\karsa\\anaconda3\\lib\\site-packages (from imblearn) (0.11.0)\n",
      "Requirement already satisfied: numpy>=1.17.3 in c:\\users\\karsa\\anaconda3\\lib\\site-packages (from imbalanced-learn->imblearn) (1.21.5)\n",
      "Requirement already satisfied: scikit-learn>=1.0.2 in c:\\users\\karsa\\anaconda3\\lib\\site-packages (from imbalanced-learn->imblearn) (1.0.2)\n",
      "Requirement already satisfied: scipy>=1.5.0 in c:\\users\\karsa\\anaconda3\\lib\\site-packages (from imbalanced-learn->imblearn) (1.9.1)\n",
      "Requirement already satisfied: threadpoolctl>=2.0.0 in c:\\users\\karsa\\anaconda3\\lib\\site-packages (from imbalanced-learn->imblearn) (3.2.0)\n",
      "Requirement already satisfied: joblib>=1.1.1 in c:\\users\\karsa\\anaconda3\\lib\\site-packages (from imbalanced-learn->imblearn) (1.3.2)\n",
      "Note: you may need to restart the kernel to use updated packages.\n"
     ]
    }
   ],
   "source": [
    "%pip install imblearn\n",
    "import pandas as pd\n",
    "import numpy as np\n",
    "from sklearn.metrics import r2_score,mean_absolute_error,mean_squared_error\n",
    "from sklearn.neighbors import KNeighborsClassifier\n",
    "from sklearn.tree import DecisionTreeClassifier\n",
    "from sklearn.naive_bayes import GaussianNB\n",
    "from sklearn.svm import SVC\n",
    "from imblearn.over_sampling import SMOTE\n",
    "from collections import Counter"
   ]
  },
  {
   "cell_type": "code",
   "execution_count": 13,
   "id": "a2cfbf79",
   "metadata": {
    "scrolled": true
   },
   "outputs": [],
   "source": [
    "df = pd.read_csv(r\"C:\\Users\\karsa\\My Drive\\Extracurriculars\\Research\\Audax Labs\\notebooks\\data\\preprocessed.csv\")"
   ]
  },
  {
   "cell_type": "code",
   "execution_count": 14,
   "id": "9dda9e10",
   "metadata": {},
   "outputs": [
    {
     "data": {
      "text/html": [
       "<div>\n",
       "<style scoped>\n",
       "    .dataframe tbody tr th:only-of-type {\n",
       "        vertical-align: middle;\n",
       "    }\n",
       "\n",
       "    .dataframe tbody tr th {\n",
       "        vertical-align: top;\n",
       "    }\n",
       "\n",
       "    .dataframe thead th {\n",
       "        text-align: right;\n",
       "    }\n",
       "</style>\n",
       "<table border=\"1\" class=\"dataframe\">\n",
       "  <thead>\n",
       "    <tr style=\"text-align: right;\">\n",
       "      <th></th>\n",
       "      <th>Sensor-57</th>\n",
       "      <th>Sensor-134</th>\n",
       "      <th>Sensor-76</th>\n",
       "      <th>Sensor-28</th>\n",
       "      <th>Sensor-164</th>\n",
       "      <th>Sensor-369</th>\n",
       "      <th>Sensor-108</th>\n",
       "      <th>Sensor-81</th>\n",
       "      <th>Sensor-449</th>\n",
       "      <th>Sensor-319</th>\n",
       "      <th>Good/Bad</th>\n",
       "    </tr>\n",
       "  </thead>\n",
       "  <tbody>\n",
       "    <tr>\n",
       "      <th>0</th>\n",
       "      <td>0.927000</td>\n",
       "      <td>1010.787000</td>\n",
       "      <td>-0.011800</td>\n",
       "      <td>5.158300</td>\n",
       "      <td>0.125000</td>\n",
       "      <td>0.002000</td>\n",
       "      <td>-0.104200</td>\n",
       "      <td>-0.081400</td>\n",
       "      <td>0.259300</td>\n",
       "      <td>3.319900</td>\n",
       "      <td>-1.0</td>\n",
       "    </tr>\n",
       "    <tr>\n",
       "      <th>1</th>\n",
       "      <td>0.927000</td>\n",
       "      <td>997.806400</td>\n",
       "      <td>0.000500</td>\n",
       "      <td>5.067000</td>\n",
       "      <td>0.077000</td>\n",
       "      <td>0.004600</td>\n",
       "      <td>-0.084200</td>\n",
       "      <td>-0.107400</td>\n",
       "      <td>0.162800</td>\n",
       "      <td>3.077600</td>\n",
       "      <td>-1.0</td>\n",
       "    </tr>\n",
       "    <tr>\n",
       "      <th>2</th>\n",
       "      <td>0.927000</td>\n",
       "      <td>997.806400</td>\n",
       "      <td>-0.001900</td>\n",
       "      <td>7.332000</td>\n",
       "      <td>0.150000</td>\n",
       "      <td>0.002400</td>\n",
       "      <td>-0.095100</td>\n",
       "      <td>-0.120400</td>\n",
       "      <td>0.113200</td>\n",
       "      <td>3.821800</td>\n",
       "      <td>-1.0</td>\n",
       "    </tr>\n",
       "    <tr>\n",
       "      <th>3</th>\n",
       "      <td>0.923600</td>\n",
       "      <td>1003.021100</td>\n",
       "      <td>-0.030300</td>\n",
       "      <td>5.204000</td>\n",
       "      <td>0.090000</td>\n",
       "      <td>0.004100</td>\n",
       "      <td>0.032800</td>\n",
       "      <td>-0.102400</td>\n",
       "      <td>0.193200</td>\n",
       "      <td>3.689200</td>\n",
       "      <td>-1.0</td>\n",
       "    </tr>\n",
       "    <tr>\n",
       "      <th>4</th>\n",
       "      <td>0.927000</td>\n",
       "      <td>1001.379600</td>\n",
       "      <td>-0.019900</td>\n",
       "      <td>7.347700</td>\n",
       "      <td>0.147000</td>\n",
       "      <td>0.001500</td>\n",
       "      <td>-0.076200</td>\n",
       "      <td>-0.111800</td>\n",
       "      <td>0.118800</td>\n",
       "      <td>3.677100</td>\n",
       "      <td>-1.0</td>\n",
       "    </tr>\n",
       "    <tr>\n",
       "      <th>...</th>\n",
       "      <td>...</td>\n",
       "      <td>...</td>\n",
       "      <td>...</td>\n",
       "      <td>...</td>\n",
       "      <td>...</td>\n",
       "      <td>...</td>\n",
       "      <td>...</td>\n",
       "      <td>...</td>\n",
       "      <td>...</td>\n",
       "      <td>...</td>\n",
       "      <td>...</td>\n",
       "    </tr>\n",
       "    <tr>\n",
       "      <th>2891</th>\n",
       "      <td>0.935256</td>\n",
       "      <td>1006.338356</td>\n",
       "      <td>-0.013324</td>\n",
       "      <td>5.134490</td>\n",
       "      <td>0.134560</td>\n",
       "      <td>0.003128</td>\n",
       "      <td>0.171730</td>\n",
       "      <td>-0.090508</td>\n",
       "      <td>0.249052</td>\n",
       "      <td>2.880244</td>\n",
       "      <td>1.0</td>\n",
       "    </tr>\n",
       "    <tr>\n",
       "      <th>2892</th>\n",
       "      <td>0.933079</td>\n",
       "      <td>1011.613741</td>\n",
       "      <td>-0.041175</td>\n",
       "      <td>5.246843</td>\n",
       "      <td>0.125419</td>\n",
       "      <td>0.006995</td>\n",
       "      <td>-0.082471</td>\n",
       "      <td>0.052672</td>\n",
       "      <td>0.182294</td>\n",
       "      <td>2.230297</td>\n",
       "      <td>1.0</td>\n",
       "    </tr>\n",
       "    <tr>\n",
       "      <th>2893</th>\n",
       "      <td>0.929047</td>\n",
       "      <td>1010.982112</td>\n",
       "      <td>-0.012599</td>\n",
       "      <td>7.286756</td>\n",
       "      <td>0.132515</td>\n",
       "      <td>0.003094</td>\n",
       "      <td>-0.040525</td>\n",
       "      <td>0.021938</td>\n",
       "      <td>0.206023</td>\n",
       "      <td>4.401918</td>\n",
       "      <td>1.0</td>\n",
       "    </tr>\n",
       "    <tr>\n",
       "      <th>2894</th>\n",
       "      <td>0.930195</td>\n",
       "      <td>1008.248190</td>\n",
       "      <td>0.002995</td>\n",
       "      <td>7.152810</td>\n",
       "      <td>0.186947</td>\n",
       "      <td>0.003197</td>\n",
       "      <td>0.005543</td>\n",
       "      <td>-0.008435</td>\n",
       "      <td>0.330398</td>\n",
       "      <td>1.604100</td>\n",
       "      <td>1.0</td>\n",
       "    </tr>\n",
       "    <tr>\n",
       "      <th>2895</th>\n",
       "      <td>0.924451</td>\n",
       "      <td>1001.620118</td>\n",
       "      <td>-0.008096</td>\n",
       "      <td>7.393698</td>\n",
       "      <td>0.063238</td>\n",
       "      <td>0.002241</td>\n",
       "      <td>0.037102</td>\n",
       "      <td>-0.004687</td>\n",
       "      <td>0.499351</td>\n",
       "      <td>3.850631</td>\n",
       "      <td>1.0</td>\n",
       "    </tr>\n",
       "  </tbody>\n",
       "</table>\n",
       "<p>2896 rows × 11 columns</p>\n",
       "</div>"
      ],
      "text/plain": [
       "      Sensor-57   Sensor-134  Sensor-76  Sensor-28  Sensor-164  Sensor-369  \\\n",
       "0      0.927000  1010.787000  -0.011800   5.158300    0.125000    0.002000   \n",
       "1      0.927000   997.806400   0.000500   5.067000    0.077000    0.004600   \n",
       "2      0.927000   997.806400  -0.001900   7.332000    0.150000    0.002400   \n",
       "3      0.923600  1003.021100  -0.030300   5.204000    0.090000    0.004100   \n",
       "4      0.927000  1001.379600  -0.019900   7.347700    0.147000    0.001500   \n",
       "...         ...          ...        ...        ...         ...         ...   \n",
       "2891   0.935256  1006.338356  -0.013324   5.134490    0.134560    0.003128   \n",
       "2892   0.933079  1011.613741  -0.041175   5.246843    0.125419    0.006995   \n",
       "2893   0.929047  1010.982112  -0.012599   7.286756    0.132515    0.003094   \n",
       "2894   0.930195  1008.248190   0.002995   7.152810    0.186947    0.003197   \n",
       "2895   0.924451  1001.620118  -0.008096   7.393698    0.063238    0.002241   \n",
       "\n",
       "      Sensor-108  Sensor-81  Sensor-449  Sensor-319  Good/Bad  \n",
       "0      -0.104200  -0.081400    0.259300    3.319900      -1.0  \n",
       "1      -0.084200  -0.107400    0.162800    3.077600      -1.0  \n",
       "2      -0.095100  -0.120400    0.113200    3.821800      -1.0  \n",
       "3       0.032800  -0.102400    0.193200    3.689200      -1.0  \n",
       "4      -0.076200  -0.111800    0.118800    3.677100      -1.0  \n",
       "...          ...        ...         ...         ...       ...  \n",
       "2891    0.171730  -0.090508    0.249052    2.880244       1.0  \n",
       "2892   -0.082471   0.052672    0.182294    2.230297       1.0  \n",
       "2893   -0.040525   0.021938    0.206023    4.401918       1.0  \n",
       "2894    0.005543  -0.008435    0.330398    1.604100       1.0  \n",
       "2895    0.037102  -0.004687    0.499351    3.850631       1.0  \n",
       "\n",
       "[2896 rows x 11 columns]"
      ]
     },
     "execution_count": 14,
     "metadata": {},
     "output_type": "execute_result"
    }
   ],
   "source": [
    "df"
   ]
  },
  {
   "cell_type": "code",
   "execution_count": 15,
   "id": "54b2a7e1",
   "metadata": {},
   "outputs": [],
   "source": [
    "X = df.iloc[:, :-1]\n",
    "Y = df.iloc[:, -1:]"
   ]
  },
  {
   "cell_type": "code",
   "execution_count": 16,
   "id": "c0204afb",
   "metadata": {},
   "outputs": [
    {
     "data": {
      "text/plain": [
       "Good/Bad\n",
       "-1.0        1448\n",
       " 1.0        1448\n",
       "dtype: int64"
      ]
     },
     "execution_count": 16,
     "metadata": {},
     "output_type": "execute_result"
    }
   ],
   "source": [
    "Y.value_counts()"
   ]
  },
  {
   "cell_type": "code",
   "execution_count": 17,
   "id": "848bde4b",
   "metadata": {},
   "outputs": [],
   "source": [
    "#Y = Y.to_numpy().flatten()"
   ]
  },
  {
   "cell_type": "code",
   "execution_count": 18,
   "id": "dc64bf02",
   "metadata": {},
   "outputs": [],
   "source": [
    "from sklearn.model_selection import train_test_split\n",
    "\n",
    "X_train,X_test,y_train,y_test=train_test_split(X,Y,test_size=0.3,random_state=30)"
   ]
  },
  {
   "cell_type": "code",
   "execution_count": 19,
   "id": "7f593621",
   "metadata": {},
   "outputs": [],
   "source": [
    "from sklearn.metrics import accuracy_score\n",
    "\n",
    "def evaluate_model(true, predicted):\n",
    "    mae = mean_absolute_error(true, predicted)\n",
    "    mse = mean_squared_error(true, predicted)\n",
    "    accuracy = accuracy_score(true, predicted)\n",
    "    rmse = np.sqrt(mean_squared_error(true, predicted))\n",
    "    r2_square = r2_score(true, predicted)\n",
    "    return mae, rmse, accuracy, r2_square"
   ]
  },
  {
   "cell_type": "code",
   "execution_count": 20,
   "id": "ea5eb8bb",
   "metadata": {},
   "outputs": [],
   "source": [
    "models = {\n",
    "    \"knn\": KNeighborsClassifier(),\n",
    "    \"decision_tree\": DecisionTreeClassifier(),\n",
    "    \"nb\": GaussianNB(),\n",
    "    \"svm\": SVC()\n",
    "}"
   ]
  },
  {
   "cell_type": "code",
   "execution_count": 21,
   "id": "e8650167",
   "metadata": {},
   "outputs": [
    {
     "name": "stderr",
     "output_type": "stream",
     "text": [
      "c:\\Users\\karsa\\anaconda3\\lib\\site-packages\\sklearn\\neighbors\\_classification.py:198: DataConversionWarning: A column-vector y was passed when a 1d array was expected. Please change the shape of y to (n_samples,), for example using ravel().\n",
      "  return self._fit(X, y)\n",
      "c:\\Users\\karsa\\anaconda3\\lib\\site-packages\\sklearn\\neighbors\\_classification.py:228: FutureWarning: Unlike other reduction functions (e.g. `skew`, `kurtosis`), the default behavior of `mode` typically preserves the axis it acts along. In SciPy 1.11.0, this behavior will change: the default value of `keepdims` will become False, the `axis` over which the statistic is taken will be eliminated, and the value None will no longer be accepted. Set `keepdims` to True or False to avoid this warning.\n",
      "  mode, _ = stats.mode(_y[neigh_ind, k], axis=1)\n",
      "c:\\Users\\karsa\\anaconda3\\lib\\site-packages\\sklearn\\utils\\validation.py:993: DataConversionWarning: A column-vector y was passed when a 1d array was expected. Please change the shape of y to (n_samples, ), for example using ravel().\n",
      "  y = column_or_1d(y, warn=True)\n",
      "c:\\Users\\karsa\\anaconda3\\lib\\site-packages\\sklearn\\utils\\validation.py:993: DataConversionWarning: A column-vector y was passed when a 1d array was expected. Please change the shape of y to (n_samples, ), for example using ravel().\n",
      "  y = column_or_1d(y, warn=True)\n"
     ]
    },
    {
     "name": "stdout",
     "output_type": "stream",
     "text": [
      "knn\n",
      "Accuracy: 0.6985040276179517\n",
      "RMSE: 1.0981729779630318\n",
      "MAE: 0.6029919447640967\n",
      "R2 score -20.602381557759173\n",
      "=========================\n",
      "decision_tree\n",
      "Accuracy: 0.8296892980437284\n",
      "RMSE: 0.8253743440555239\n",
      "MAE: 0.34062140391254314\n",
      "R2 score 31.873463852868866\n",
      "=========================\n",
      "nb\n",
      "Accuracy: 0.6720368239355581\n",
      "RMSE: 1.1453613858768625\n",
      "MAE: 0.6559263521288837\n",
      "R2 score -31.189613526570103\n",
      "=========================\n",
      "svm\n",
      "Accuracy: 0.49712313003452246\n",
      "RMSE: 1.418276235386432\n",
      "MAE: 1.005753739930955\n",
      "R2 score -101.15740740740749\n",
      "=========================\n"
     ]
    }
   ],
   "source": [
    "for model_name in list(models):\n",
    "    model = models.get(model_name)\n",
    "    model.fit(X_train, y_train);\n",
    "    pred = model.predict(X_test)\n",
    "    \n",
    "    mae, rmse, accuracy, r2_square=evaluate_model(y_test,pred)\n",
    "\n",
    "    print(model_name)\n",
    "    print(\"Accuracy:\", accuracy)\n",
    "    print(\"RMSE:\",rmse)\n",
    "    print(\"MAE:\",mae)\n",
    "    print(\"R2 score\",r2_square*100)\n",
    "    \n",
    "    print('='*25)"
   ]
  },
  {
   "cell_type": "code",
   "execution_count": 26,
   "id": "b3ff1525",
   "metadata": {},
   "outputs": [
    {
     "data": {
      "text/plain": [
       "Index(['Sensor-57', 'Sensor-134', 'Sensor-76', 'Sensor-28', 'Sensor-164',\n",
       "       'Sensor-369', 'Sensor-108', 'Sensor-81', 'Sensor-449', 'Sensor-319'],\n",
       "      dtype='object')"
      ]
     },
     "execution_count": 26,
     "metadata": {},
     "output_type": "execute_result"
    }
   ],
   "source": [
    "X_train.columns"
   ]
  },
  {
   "cell_type": "markdown",
   "id": "8e93a048",
   "metadata": {},
   "source": [
    "## looks like we're using a Decision Tree"
   ]
  },
  {
   "cell_type": "code",
   "execution_count": 22,
   "id": "b5cdab15",
   "metadata": {},
   "outputs": [
    {
     "data": {
      "text/plain": [
       "DecisionTreeClassifier()"
      ]
     },
     "execution_count": 22,
     "metadata": {},
     "output_type": "execute_result"
    }
   ],
   "source": [
    "model = DecisionTreeClassifier()\n",
    "model.fit(X_train, y_train)"
   ]
  },
  {
   "cell_type": "code",
   "execution_count": 27,
   "id": "aa564808",
   "metadata": {},
   "outputs": [],
   "source": [
    "import pickle\n",
    "\n",
    "pickle.dump(model, open('model.pkl', 'wb'))"
   ]
  }
 ],
 "metadata": {
  "kernelspec": {
   "display_name": "Python 3 (ipykernel)",
   "language": "python",
   "name": "python3"
  },
  "language_info": {
   "codemirror_mode": {
    "name": "ipython",
    "version": 3
   },
   "file_extension": ".py",
   "mimetype": "text/x-python",
   "name": "python",
   "nbconvert_exporter": "python",
   "pygments_lexer": "ipython3",
   "version": "3.9.13"
  }
 },
 "nbformat": 4,
 "nbformat_minor": 5
}
