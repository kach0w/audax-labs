{
 "cells": [
  {
   "cell_type": "markdown",
   "id": "9f0e1a65",
   "metadata": {},
   "source": [
    "## Data Processing"
   ]
  },
  {
   "cell_type": "code",
   "execution_count": 50,
   "id": "44e6db56",
   "metadata": {},
   "outputs": [
    {
     "name": "stdout",
     "output_type": "stream",
     "text": [
      "Requirement already satisfied: imblearn in c:\\users\\karsa\\anaconda3\\lib\\site-packages (0.0)\n",
      "Requirement already satisfied: imbalanced-learn in c:\\users\\karsa\\anaconda3\\lib\\site-packages (from imblearn) (0.11.0)\n",
      "Requirement already satisfied: scikit-learn>=1.0.2 in c:\\users\\karsa\\anaconda3\\lib\\site-packages (from imbalanced-learn->imblearn) (1.0.2)\n",
      "Requirement already satisfied: threadpoolctl>=2.0.0 in c:\\users\\karsa\\anaconda3\\lib\\site-packages (from imbalanced-learn->imblearn) (3.2.0)\n",
      "Requirement already satisfied: joblib>=1.1.1 in c:\\users\\karsa\\anaconda3\\lib\\site-packages (from imbalanced-learn->imblearn) (1.3.2)\n",
      "Requirement already satisfied: scipy>=1.5.0 in c:\\users\\karsa\\anaconda3\\lib\\site-packages (from imbalanced-learn->imblearn) (1.9.1)\n",
      "Requirement already satisfied: numpy>=1.17.3 in c:\\users\\karsa\\anaconda3\\lib\\site-packages (from imbalanced-learn->imblearn) (1.21.5)\n",
      "Note: you may need to restart the kernel to use updated packages.\n"
     ]
    }
   ],
   "source": [
    "%pip install imblearn\n",
    "import pandas as pd\n",
    "import numpy as np\n",
    "from numpy import nan\n",
    "import matplotlib.pyplot as plt\n",
    "import os\n",
    "from sklearn.impute import SimpleImputer\n",
    "from sklearn.model_selection import train_test_split\n",
    "from sklearn.naive_bayes import GaussianNB\n",
    "from sklearn.metrics import confusion_matrix\n",
    "import seaborn as sns\n",
    "from sklearn.feature_selection import f_classif\n",
    "from imblearn.over_sampling import SMOTE\n",
    "from collections import Counter"
   ]
  },
  {
   "cell_type": "code",
   "execution_count": 51,
   "id": "69530f21",
   "metadata": {},
   "outputs": [
    {
     "data": {
      "text/plain": [
       "(1537, 629)"
      ]
     },
     "execution_count": 51,
     "metadata": {},
     "output_type": "execute_result"
    }
   ],
   "source": [
    "#reads in the df and removes the rows that do not have a good/bad classification\n",
    "df = pd.read_csv(r\"C:\\Users\\karsa\\My Drive\\Extracurriculars\\Research\\Audax Labs\\notebooks\\data\\compiled.csv\", low_memory=False)\n",
    "df = df[(df[\"Good/Bad\"] == -1) | (df[\"Good/Bad\"] == 1)]\n",
    "df.shape"
   ]
  },
  {
   "cell_type": "code",
   "execution_count": 52,
   "id": "8f8d722f",
   "metadata": {},
   "outputs": [
    {
     "data": {
      "text/plain": [
       "(1537, 532)"
      ]
     },
     "execution_count": 52,
     "metadata": {},
     "output_type": "execute_result"
    }
   ],
   "source": [
    "df = df.dropna(axis=1, thresh=1500);\n",
    "df.shape"
   ]
  },
  {
   "cell_type": "code",
   "execution_count": 53,
   "id": "e141e114",
   "metadata": {},
   "outputs": [],
   "source": [
    "numeric_cols = df.select_dtypes(include=np.number).columns\n",
    "numeric_cols = numeric_cols[:-1].tolist()"
   ]
  },
  {
   "cell_type": "code",
   "execution_count": 54,
   "id": "95d4a2f7",
   "metadata": {},
   "outputs": [],
   "source": [
    "#imputes the missing values\n",
    "imp = SimpleImputer(strategy='mean')\n",
    "df[numeric_cols] = imp.fit_transform(df[numeric_cols])"
   ]
  },
  {
   "cell_type": "code",
   "execution_count": 55,
   "id": "1004e176",
   "metadata": {},
   "outputs": [
    {
     "name": "stdout",
     "output_type": "stream",
     "text": [
      "112\n"
     ]
    }
   ],
   "source": [
    "#remove all columns which only have zeros\n",
    "cols = []\n",
    "for col in df.columns:\n",
    "    if (df[col] == 0).all():\n",
    "        cols.append(col)\n",
    "\n",
    "if cols:\n",
    "    df.drop(columns=cols, inplace=True)\n",
    "    print(len(cols))"
   ]
  },
  {
   "cell_type": "code",
   "execution_count": 56,
   "id": "f776b20d",
   "metadata": {},
   "outputs": [
    {
     "name": "stdout",
     "output_type": "stream",
     "text": [
      "Numerical columns: Index(['Sensor-1', 'Sensor-2', 'Sensor-3', 'Sensor-4', 'Sensor-5', 'Sensor-6',\n",
      "       'Sensor-7', 'Sensor-8', 'Sensor-9', 'Sensor-10',\n",
      "       ...\n",
      "       'Sensor-577', 'Sensor-578', 'Sensor-583', 'Sensor-584', 'Sensor-585',\n",
      "       'Sensor-587', 'Sensor-588', 'Sensor-589', 'Sensor-590', 'Good/Bad'],\n",
      "      dtype='object', length=416)\n",
      "Categorical Columns: Index(['Unnamed: 0', 'Sensor-332', 'Sensor-576', 'Sensor-586'], dtype='object')\n"
     ]
    }
   ],
   "source": [
    "numerical_columns=df.columns[df.dtypes!='object']\n",
    "categorical_columns=df.columns[df.dtypes=='object']\n",
    "print(\"Numerical columns:\",numerical_columns)\n",
    "print('Categorical Columns:',categorical_columns)"
   ]
  },
  {
   "cell_type": "code",
   "execution_count": 57,
   "id": "6644ff8e",
   "metadata": {},
   "outputs": [
    {
     "data": {
      "text/html": [
       "<div>\n",
       "<style scoped>\n",
       "    .dataframe tbody tr th:only-of-type {\n",
       "        vertical-align: middle;\n",
       "    }\n",
       "\n",
       "    .dataframe tbody tr th {\n",
       "        vertical-align: top;\n",
       "    }\n",
       "\n",
       "    .dataframe thead th {\n",
       "        text-align: right;\n",
       "    }\n",
       "</style>\n",
       "<table border=\"1\" class=\"dataframe\">\n",
       "  <thead>\n",
       "    <tr style=\"text-align: right;\">\n",
       "      <th></th>\n",
       "      <th>Unnamed: 0</th>\n",
       "      <th>Sensor-332</th>\n",
       "      <th>Sensor-576</th>\n",
       "      <th>Sensor-586</th>\n",
       "    </tr>\n",
       "  </thead>\n",
       "  <tbody>\n",
       "    <tr>\n",
       "      <th>count</th>\n",
       "      <td>1537</td>\n",
       "      <td>1533</td>\n",
       "      <td>1537</td>\n",
       "      <td>1536</td>\n",
       "    </tr>\n",
       "    <tr>\n",
       "      <th>unique</th>\n",
       "      <td>1537</td>\n",
       "      <td>309</td>\n",
       "      <td>584</td>\n",
       "      <td>1473</td>\n",
       "    </tr>\n",
       "    <tr>\n",
       "      <th>top</th>\n",
       "      <td>Wafer-501</td>\n",
       "      <td>0.1017</td>\n",
       "      <td>0.0862</td>\n",
       "      <td>2.7619</td>\n",
       "    </tr>\n",
       "    <tr>\n",
       "      <th>freq</th>\n",
       "      <td>1</td>\n",
       "      <td>26</td>\n",
       "      <td>18</td>\n",
       "      <td>3</td>\n",
       "    </tr>\n",
       "  </tbody>\n",
       "</table>\n",
       "</div>"
      ],
      "text/plain": [
       "       Unnamed: 0 Sensor-332 Sensor-576 Sensor-586\n",
       "count        1537       1533       1537       1536\n",
       "unique       1537        309        584       1473\n",
       "top     Wafer-501     0.1017     0.0862     2.7619\n",
       "freq            1         26         18          3"
      ]
     },
     "execution_count": 57,
     "metadata": {},
     "output_type": "execute_result"
    }
   ],
   "source": [
    "df[categorical_columns].describe()"
   ]
  },
  {
   "cell_type": "code",
   "execution_count": 58,
   "id": "0f47e890",
   "metadata": {},
   "outputs": [
    {
     "data": {
      "text/plain": [
       "Good/Bad\n",
       "-1.0        1448\n",
       " 1.0          89\n",
       "dtype: int64"
      ]
     },
     "execution_count": 58,
     "metadata": {},
     "output_type": "execute_result"
    }
   ],
   "source": [
    "df.iloc[:, -1:].value_counts()\n",
    "#df = df.dropna(subset=[df.columns[-1]])\n",
    "#df.shape"
   ]
  },
  {
   "cell_type": "code",
   "execution_count": 59,
   "id": "54b0d040",
   "metadata": {},
   "outputs": [],
   "source": [
    "df = df[numerical_columns]"
   ]
  },
  {
   "cell_type": "code",
   "execution_count": 60,
   "id": "f80cf9f7",
   "metadata": {},
   "outputs": [],
   "source": [
    "X = df.drop('Good/Bad', axis=1)\n",
    "y = df['Good/Bad']"
   ]
  },
  {
   "cell_type": "code",
   "execution_count": 61,
   "id": "05191a49",
   "metadata": {},
   "outputs": [
    {
     "name": "stdout",
     "output_type": "stream",
     "text": [
      "Before -1.0    1448\n",
      " 1.0      89\n",
      "Name: Good/Bad, dtype: int64\n",
      "After -1.0    1448\n",
      " 1.0    1448\n",
      "Name: Good/Bad, dtype: int64\n"
     ]
    }
   ],
   "source": [
    "print('Before', y.value_counts())\n",
    "smt = SMOTE()\n",
    "X_resampled, y_resampled = smt.fit_resample(X, y)\n",
    "print('After', y_resampled.value_counts())"
   ]
  },
  {
   "cell_type": "code",
   "execution_count": 62,
   "id": "0174531d",
   "metadata": {},
   "outputs": [],
   "source": [
    "df = pd.concat([pd.DataFrame(X_resampled, columns=X.columns), pd.Series(y_resampled, name='Good/Bad')], axis=1)"
   ]
  },
  {
   "cell_type": "code",
   "execution_count": 63,
   "id": "d4096d30",
   "metadata": {},
   "outputs": [],
   "source": [
    "X = df.drop('Good/Bad', axis=1)\n",
    "y = df['Good/Bad']"
   ]
  },
  {
   "cell_type": "code",
   "execution_count": 64,
   "id": "7b480d82",
   "metadata": {},
   "outputs": [],
   "source": [
    "def get_unique_numbers(numbers):\n",
    "\n",
    "    list_of_unique_numbers = []\n",
    "\n",
    "    unique_numbers = set(numbers)\n",
    "\n",
    "    for number in unique_numbers:\n",
    "        list_of_unique_numbers.append(number)\n",
    "\n",
    "    return list_of_unique_numbers"
   ]
  },
  {
   "cell_type": "code",
   "execution_count": 65,
   "id": "b3f18a0d",
   "metadata": {},
   "outputs": [
    {
     "name": "stdout",
     "output_type": "stream",
     "text": [
      "(2896, 415)\n",
      "(2896,)\n"
     ]
    }
   ],
   "source": [
    "print(X.shape)\n",
    "print(y.shape)"
   ]
  },
  {
   "cell_type": "code",
   "execution_count": 94,
   "id": "217d7f4f",
   "metadata": {},
   "outputs": [
    {
     "data": {
      "text/plain": [
       "Index(['Sensor-57', 'Sensor-134', 'Sensor-76', 'Sensor-28', 'Sensor-164',\n",
       "       'Sensor-369', 'Sensor-108', 'Sensor-81', 'Sensor-449', 'Sensor-319'],\n",
       "      dtype='object')"
      ]
     },
     "execution_count": 94,
     "metadata": {},
     "output_type": "execute_result"
    }
   ],
   "source": [
    "correlations = df.corr()\n",
    "target_correlation = correlations['Good/Bad'].sort_values(ascending=False)\n",
    "high_corr_columns = target_correlation.iloc[1:][:10].index\n",
    "high_corr_columns"
   ]
  },
  {
   "cell_type": "code",
   "execution_count": 95,
   "id": "6036273c",
   "metadata": {},
   "outputs": [
    {
     "data": {
      "text/plain": [
       "(2896, 11)"
      ]
     },
     "execution_count": 95,
     "metadata": {},
     "output_type": "execute_result"
    }
   ],
   "source": [
    "#creating the new df\n",
    "df = df[high_corr_columns]\n",
    "df[\"Good/Bad\"] = y \n",
    "df.shape"
   ]
  },
  {
   "cell_type": "code",
   "execution_count": 96,
   "id": "81538ab4",
   "metadata": {},
   "outputs": [
    {
     "data": {
      "text/plain": [
       "-1.0    1448\n",
       " 1.0    1448\n",
       "Name: Good/Bad, dtype: int64"
      ]
     },
     "execution_count": 96,
     "metadata": {},
     "output_type": "execute_result"
    }
   ],
   "source": [
    "df[\"Good/Bad\"].value_counts()"
   ]
  },
  {
   "cell_type": "code",
   "execution_count": 97,
   "id": "21395f99",
   "metadata": {},
   "outputs": [],
   "source": [
    "df.to_csv(r\"C:\\Users\\karsa\\My Drive\\Extracurriculars\\Research\\Audax Labs\\notebooks\\data\\preprocessed.csv\", encoding='utf-8', index=False)"
   ]
  }
 ],
 "metadata": {
  "kernelspec": {
   "display_name": "Python 3 (ipykernel)",
   "language": "python",
   "name": "python3"
  },
  "language_info": {
   "codemirror_mode": {
    "name": "ipython",
    "version": 3
   },
   "file_extension": ".py",
   "mimetype": "text/x-python",
   "name": "python",
   "nbconvert_exporter": "python",
   "pygments_lexer": "ipython3",
   "version": "3.9.13"
  }
 },
 "nbformat": 4,
 "nbformat_minor": 5
}
