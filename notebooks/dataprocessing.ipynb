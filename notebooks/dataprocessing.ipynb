{
 "cells": [
  {
   "cell_type": "markdown",
   "id": "9f0e1a65",
   "metadata": {},
   "source": [
    "## Data Processing"
   ]
  },
  {
   "cell_type": "code",
   "execution_count": 49,
   "id": "44e6db56",
   "metadata": {},
   "outputs": [
    {
     "name": "stdout",
     "output_type": "stream",
     "text": [
      "Requirement already satisfied: imblearn in c:\\users\\karsa\\anaconda3\\lib\\site-packages (0.0)\n",
      "Requirement already satisfied: imbalanced-learn in c:\\users\\karsa\\anaconda3\\lib\\site-packages (from imblearn) (0.11.0)\n",
      "Requirement already satisfied: threadpoolctl>=2.0.0 in c:\\users\\karsa\\anaconda3\\lib\\site-packages (from imbalanced-learn->imblearn) (3.2.0)\n",
      "Requirement already satisfied: numpy>=1.17.3 in c:\\users\\karsa\\anaconda3\\lib\\site-packages (from imbalanced-learn->imblearn) (1.21.5)\n",
      "Requirement already satisfied: joblib>=1.1.1 in c:\\users\\karsa\\anaconda3\\lib\\site-packages (from imbalanced-learn->imblearn) (1.3.2)\n",
      "Requirement already satisfied: scikit-learn>=1.0.2 in c:\\users\\karsa\\anaconda3\\lib\\site-packages (from imbalanced-learn->imblearn) (1.0.2)\n",
      "Requirement already satisfied: scipy>=1.5.0 in c:\\users\\karsa\\anaconda3\\lib\\site-packages (from imbalanced-learn->imblearn) (1.9.1)\n"
     ]
    }
   ],
   "source": [
    "!pip install imblearn\n",
    "import pandas as pd\n",
    "import numpy as np\n",
    "from numpy import nan\n",
    "import matplotlib.pyplot as plt\n",
    "import os\n",
    "from sklearn.impute import SimpleImputer\n",
    "from sklearn.model_selection import train_test_split\n",
    "from sklearn.naive_bayes import GaussianNB\n",
    "from sklearn.metrics import confusion_matrix\n",
    "import seaborn as sns\n",
    "from sklearn.feature_selection import f_classif\n",
    "from imblearn.over_sampling import SMOTE\n",
    "from collections import Counter"
   ]
  },
  {
   "cell_type": "code",
   "execution_count": 50,
   "id": "69530f21",
   "metadata": {},
   "outputs": [
    {
     "data": {
      "text/plain": [
       "(1537, 629)"
      ]
     },
     "execution_count": 50,
     "metadata": {},
     "output_type": "execute_result"
    }
   ],
   "source": [
    "#reads in the df and removes the rows that do not have a good/bad classification\n",
    "df = pd.read_csv(r\"C:\\Users\\karsa\\My Drive\\Extracurriculars\\Research\\Audax Labs\\compiled.csv\", low_memory=False)\n",
    "df = df[(df[\"Good/Bad\"] == -1) | (df[\"Good/Bad\"] == 1)]\n",
    "df.shape"
   ]
  },
  {
   "cell_type": "code",
   "execution_count": 51,
   "id": "8f8d722f",
   "metadata": {},
   "outputs": [
    {
     "data": {
      "text/plain": [
       "(1537, 532)"
      ]
     },
     "execution_count": 51,
     "metadata": {},
     "output_type": "execute_result"
    }
   ],
   "source": [
    "df = df.dropna(axis=1, thresh=1500);\n",
    "df.shape"
   ]
  },
  {
   "cell_type": "code",
   "execution_count": 52,
   "id": "e141e114",
   "metadata": {},
   "outputs": [],
   "source": [
    "numeric_cols = df.select_dtypes(include=np.number).columns\n",
    "numeric_cols = numeric_cols[:-1].tolist()"
   ]
  },
  {
   "cell_type": "code",
   "execution_count": 53,
   "id": "95d4a2f7",
   "metadata": {},
   "outputs": [],
   "source": [
    "#imputes the missing values\n",
    "imp = SimpleImputer(strategy='mean')\n",
    "df[numeric_cols] = imp.fit_transform(df[numeric_cols])"
   ]
  },
  {
   "cell_type": "code",
   "execution_count": 54,
   "id": "1004e176",
   "metadata": {},
   "outputs": [
    {
     "name": "stdout",
     "output_type": "stream",
     "text": [
      "112\n"
     ]
    }
   ],
   "source": [
    "#remove all columns which only have zeros\n",
    "cols = []\n",
    "for col in df.columns:\n",
    "    if (df[col] == 0).all():\n",
    "        cols.append(col)\n",
    "\n",
    "if cols:\n",
    "    df.drop(columns=cols, inplace=True)\n",
    "    print(len(cols))"
   ]
  },
  {
   "cell_type": "code",
   "execution_count": 55,
   "id": "f776b20d",
   "metadata": {},
   "outputs": [
    {
     "name": "stdout",
     "output_type": "stream",
     "text": [
      "Numerical columns: Index(['Sensor-1', 'Sensor-2', 'Sensor-3', 'Sensor-4', 'Sensor-5', 'Sensor-6',\n",
      "       'Sensor-7', 'Sensor-8', 'Sensor-9', 'Sensor-10',\n",
      "       ...\n",
      "       'Sensor-577', 'Sensor-578', 'Sensor-583', 'Sensor-584', 'Sensor-585',\n",
      "       'Sensor-587', 'Sensor-588', 'Sensor-589', 'Sensor-590', 'Good/Bad'],\n",
      "      dtype='object', length=416)\n",
      "Categorical Columns: Index(['Unnamed: 0', 'Sensor-332', 'Sensor-576', 'Sensor-586'], dtype='object')\n"
     ]
    }
   ],
   "source": [
    "numerical_columns=df.columns[df.dtypes!='object']\n",
    "categorical_columns=df.columns[df.dtypes=='object']\n",
    "print(\"Numerical columns:\",numerical_columns)\n",
    "print('Categorical Columns:',categorical_columns)"
   ]
  },
  {
   "cell_type": "code",
   "execution_count": 56,
   "id": "6644ff8e",
   "metadata": {},
   "outputs": [
    {
     "data": {
      "text/html": [
       "<div>\n",
       "<style scoped>\n",
       "    .dataframe tbody tr th:only-of-type {\n",
       "        vertical-align: middle;\n",
       "    }\n",
       "\n",
       "    .dataframe tbody tr th {\n",
       "        vertical-align: top;\n",
       "    }\n",
       "\n",
       "    .dataframe thead th {\n",
       "        text-align: right;\n",
       "    }\n",
       "</style>\n",
       "<table border=\"1\" class=\"dataframe\">\n",
       "  <thead>\n",
       "    <tr style=\"text-align: right;\">\n",
       "      <th></th>\n",
       "      <th>Unnamed: 0</th>\n",
       "      <th>Sensor-332</th>\n",
       "      <th>Sensor-576</th>\n",
       "      <th>Sensor-586</th>\n",
       "    </tr>\n",
       "  </thead>\n",
       "  <tbody>\n",
       "    <tr>\n",
       "      <th>count</th>\n",
       "      <td>1537</td>\n",
       "      <td>1533</td>\n",
       "      <td>1537</td>\n",
       "      <td>1536</td>\n",
       "    </tr>\n",
       "    <tr>\n",
       "      <th>unique</th>\n",
       "      <td>1537</td>\n",
       "      <td>309</td>\n",
       "      <td>584</td>\n",
       "      <td>1473</td>\n",
       "    </tr>\n",
       "    <tr>\n",
       "      <th>top</th>\n",
       "      <td>Wafer-501</td>\n",
       "      <td>0.1017</td>\n",
       "      <td>0.0862</td>\n",
       "      <td>2.7619</td>\n",
       "    </tr>\n",
       "    <tr>\n",
       "      <th>freq</th>\n",
       "      <td>1</td>\n",
       "      <td>26</td>\n",
       "      <td>18</td>\n",
       "      <td>3</td>\n",
       "    </tr>\n",
       "  </tbody>\n",
       "</table>\n",
       "</div>"
      ],
      "text/plain": [
       "       Unnamed: 0 Sensor-332 Sensor-576 Sensor-586\n",
       "count        1537       1533       1537       1536\n",
       "unique       1537        309        584       1473\n",
       "top     Wafer-501     0.1017     0.0862     2.7619\n",
       "freq            1         26         18          3"
      ]
     },
     "execution_count": 56,
     "metadata": {},
     "output_type": "execute_result"
    }
   ],
   "source": [
    "df[categorical_columns].describe()"
   ]
  },
  {
   "cell_type": "code",
   "execution_count": 57,
   "id": "0f47e890",
   "metadata": {},
   "outputs": [
    {
     "data": {
      "text/plain": [
       "Good/Bad\n",
       "-1.0        1448\n",
       " 1.0          89\n",
       "dtype: int64"
      ]
     },
     "execution_count": 57,
     "metadata": {},
     "output_type": "execute_result"
    }
   ],
   "source": [
    "df.iloc[:, -1:].value_counts()\n",
    "#df = df.dropna(subset=[df.columns[-1]])\n",
    "#df.shape"
   ]
  },
  {
   "cell_type": "code",
   "execution_count": 64,
   "id": "54b0d040",
   "metadata": {},
   "outputs": [],
   "source": [
    "df = df[numerical_columns]"
   ]
  },
  {
   "cell_type": "code",
   "execution_count": 67,
   "id": "d30b3347",
   "metadata": {},
   "outputs": [
    {
     "data": {
      "text/plain": [
       "(1537, 415)"
      ]
     },
     "execution_count": 67,
     "metadata": {},
     "output_type": "execute_result"
    }
   ],
   "source": [
    "#sets the X and Y\n",
    "X = df[numerical_columns].iloc[:, :-1]\n",
    "#X = df.iloc[:, :-1]\n",
    "Y = df.iloc[:, -1:]\n",
    "X.shape"
   ]
  },
  {
   "cell_type": "code",
   "execution_count": 68,
   "id": "e1cda417",
   "metadata": {},
   "outputs": [],
   "source": [
    "y = Y.to_numpy().flatten()"
   ]
  },
  {
   "cell_type": "code",
   "execution_count": 69,
   "id": "e84e7f18",
   "metadata": {},
   "outputs": [],
   "source": [
    "#train, test split\n",
    "X_train, X_test, y_train, y_test = train_test_split(X, y, test_size=0.4, random_state=42)"
   ]
  },
  {
   "cell_type": "code",
   "execution_count": 70,
   "id": "05191a49",
   "metadata": {},
   "outputs": [
    {
     "name": "stdout",
     "output_type": "stream",
     "text": [
      "Before Counter({-1.0: 866, 1.0: 56})\n",
      "After Counter({-1.0: 866, 1.0: 866})\n"
     ]
    }
   ],
   "source": [
    "#SMOTE Balancing\n",
    "counter = Counter(y_train)\n",
    "print('Before', counter)\n",
    "smt = SMOTE()\n",
    "X_train, y_train = smt.fit_resample(X_train, y_train)\n",
    "counter = Counter(y_train)\n",
    "print('After', counter)"
   ]
  },
  {
   "cell_type": "code",
   "execution_count": 71,
   "id": "1c593dac",
   "metadata": {},
   "outputs": [],
   "source": [
    "#running Naive Baiyes\n",
    "model = GaussianNB()\n",
    "model.fit(X_train, y_train)\n",
    "y_pred = model.predict(X_test)"
   ]
  },
  {
   "cell_type": "code",
   "execution_count": 72,
   "id": "8c071191",
   "metadata": {},
   "outputs": [
    {
     "data": {
      "image/png": "[encoded data removed]",
      "text/plain": [
       "<Figure size 640x480 with 2 Axes>"
      ]
     },
     "metadata": {},
     "output_type": "display_data"
    }
   ],
   "source": [
    "#confusion matrix\n",
    "conf = confusion_matrix(y_pred, y_test)\n",
    "sns.heatmap(conf, annot=True)\n",
    "plt.title(\"Confusion Matrix\")\n",
    "plt.xlabel(\"Predicted Label\")\n",
    "plt.ylabel(\"True Label\")\n",
    "plt.show()"
   ]
  },
  {
   "cell_type": "code",
   "execution_count": 73,
   "id": "7b480d82",
   "metadata": {},
   "outputs": [],
   "source": [
    "def get_unique_numbers(numbers):\n",
    "\n",
    "    list_of_unique_numbers = []\n",
    "\n",
    "    unique_numbers = set(numbers)\n",
    "\n",
    "    for number in unique_numbers:\n",
    "        list_of_unique_numbers.append(number)\n",
    "\n",
    "    return list_of_unique_numbers"
   ]
  },
  {
   "cell_type": "code",
   "execution_count": 74,
   "id": "031fb4fb",
   "metadata": {
    "scrolled": true
   },
   "outputs": [
    {
     "name": "stderr",
     "output_type": "stream",
     "text": [
      "C:\\Users\\karsa\\anaconda3\\lib\\site-packages\\sklearn\\feature_selection\\_univariate_selection.py:112: UserWarning: Features [ 5 41 48 67] are constant.\n",
      "  warnings.warn(\"Features %s are constant.\" % constant_features_idx, UserWarning)\n",
      "C:\\Users\\karsa\\anaconda3\\lib\\site-packages\\sklearn\\feature_selection\\_univariate_selection.py:113: RuntimeWarning: invalid value encountered in true_divide\n",
      "  f = msb / msw\n"
     ]
    },
    {
     "data": {
      "text/plain": [
       "['Sensor-296', 'Sensor-318', 'Sensor-292', 'Sensor-240', 'Sensor-308']"
      ]
     },
     "execution_count": 74,
     "metadata": {},
     "output_type": "execute_result"
    }
   ],
   "source": [
    "#getting the top 90* columns based on correlation\n",
    "f_values, p_values = f_classif(X, y)\n",
    "\n",
    "feature_names = X.columns\n",
    "feature_f_values = dict(zip(feature_names, f_values))\n",
    "feature_f_values = {key: value for key, value in feature_f_values.items() if value == value}\n",
    "sorted_features = sorted(feature_f_values.items(), key=lambda x: x[1], reverse=True)\n",
    "\n",
    "sorted_features = get_unique_numbers(sorted_features)\n",
    "\n",
    "sorted_features = sorted_features[:90]\n",
    "high_corr_columns = [element[0] for element in sorted_features]\n",
    "high_corr_columns[:5]"
   ]
  },
  {
   "cell_type": "code",
   "execution_count": 75,
   "id": "6036273c",
   "metadata": {},
   "outputs": [
    {
     "data": {
      "text/plain": [
       "(1537, 91)"
      ]
     },
     "execution_count": 75,
     "metadata": {},
     "output_type": "execute_result"
    }
   ],
   "source": [
    "#creating the new df\n",
    "df = df[high_corr_columns]\n",
    "df[\"Good/Bad\"] = Y \n",
    "df.shape"
   ]
  },
  {
   "cell_type": "code",
   "execution_count": 77,
   "id": "81538ab4",
   "metadata": {},
   "outputs": [
    {
     "data": {
      "text/html": [
       "<div>\n",
       "<style scoped>\n",
       "    .dataframe tbody tr th:only-of-type {\n",
       "        vertical-align: middle;\n",
       "    }\n",
       "\n",
       "    .dataframe tbody tr th {\n",
       "        vertical-align: top;\n",
       "    }\n",
       "\n",
       "    .dataframe thead th {\n",
       "        text-align: right;\n",
       "    }\n",
       "</style>\n",
       "<table border=\"1\" class=\"dataframe\">\n",
       "  <thead>\n",
       "    <tr style=\"text-align: right;\">\n",
       "      <th></th>\n",
       "      <th>Sensor-296</th>\n",
       "      <th>Sensor-318</th>\n",
       "      <th>Sensor-292</th>\n",
       "      <th>Sensor-240</th>\n",
       "      <th>Sensor-308</th>\n",
       "      <th>Sensor-27</th>\n",
       "      <th>Sensor-460</th>\n",
       "      <th>Sensor-305</th>\n",
       "      <th>Sensor-155</th>\n",
       "      <th>Sensor-177</th>\n",
       "      <th>...</th>\n",
       "      <th>Sensor-126</th>\n",
       "      <th>Sensor-282</th>\n",
       "      <th>Sensor-479</th>\n",
       "      <th>Sensor-8</th>\n",
       "      <th>Sensor-5</th>\n",
       "      <th>Sensor-68</th>\n",
       "      <th>Sensor-338</th>\n",
       "      <th>Sensor-22</th>\n",
       "      <th>Sensor-166</th>\n",
       "      <th>Good/Bad</th>\n",
       "    </tr>\n",
       "  </thead>\n",
       "  <tbody>\n",
       "    <tr>\n",
       "      <th>0</th>\n",
       "      <td>219.7309</td>\n",
       "      <td>0.1781</td>\n",
       "      <td>0.0122</td>\n",
       "      <td>0.0042</td>\n",
       "      <td>0.1628</td>\n",
       "      <td>1.8963</td>\n",
       "      <td>2.7826</td>\n",
       "      <td>0.0997</td>\n",
       "      <td>7.6305</td>\n",
       "      <td>0.3676</td>\n",
       "      <td>...</td>\n",
       "      <td>1.314</td>\n",
       "      <td>0.0154</td>\n",
       "      <td>0.0</td>\n",
       "      <td>0.1247</td>\n",
       "      <td>1.0980</td>\n",
       "      <td>0.8641</td>\n",
       "      <td>1.2731</td>\n",
       "      <td>-6273.75</td>\n",
       "      <td>0.146</td>\n",
       "      <td>-1.0</td>\n",
       "    </tr>\n",
       "    <tr>\n",
       "      <th>1</th>\n",
       "      <td>273.4683</td>\n",
       "      <td>0.0919</td>\n",
       "      <td>0.0476</td>\n",
       "      <td>0.0066</td>\n",
       "      <td>0.1220</td>\n",
       "      <td>1.8872</td>\n",
       "      <td>3.1764</td>\n",
       "      <td>0.0313</td>\n",
       "      <td>7.3440</td>\n",
       "      <td>0.2439</td>\n",
       "      <td>...</td>\n",
       "      <td>1.163</td>\n",
       "      <td>0.0160</td>\n",
       "      <td>0.0</td>\n",
       "      <td>0.1210</td>\n",
       "      <td>0.9660</td>\n",
       "      <td>0.9892</td>\n",
       "      <td>1.1525</td>\n",
       "      <td>-6368.50</td>\n",
       "      <td>0.159</td>\n",
       "      <td>-1.0</td>\n",
       "    </tr>\n",
       "    <tr>\n",
       "      <th>2</th>\n",
       "      <td>237.0724</td>\n",
       "      <td>0.1377</td>\n",
       "      <td>0.0273</td>\n",
       "      <td>0.0050</td>\n",
       "      <td>0.1379</td>\n",
       "      <td>1.9968</td>\n",
       "      <td>3.3534</td>\n",
       "      <td>0.1726</td>\n",
       "      <td>6.8631</td>\n",
       "      <td>0.2040</td>\n",
       "      <td>...</td>\n",
       "      <td>1.163</td>\n",
       "      <td>0.0138</td>\n",
       "      <td>0.0</td>\n",
       "      <td>0.1230</td>\n",
       "      <td>1.6347</td>\n",
       "      <td>0.8983</td>\n",
       "      <td>1.6024</td>\n",
       "      <td>-5319.25</td>\n",
       "      <td>0.124</td>\n",
       "      <td>-1.0</td>\n",
       "    </tr>\n",
       "    <tr>\n",
       "      <th>3</th>\n",
       "      <td>241.3994</td>\n",
       "      <td>0.1320</td>\n",
       "      <td>0.0156</td>\n",
       "      <td>0.0027</td>\n",
       "      <td>0.1636</td>\n",
       "      <td>1.8988</td>\n",
       "      <td>3.5780</td>\n",
       "      <td>0.0530</td>\n",
       "      <td>10.6513</td>\n",
       "      <td>0.2246</td>\n",
       "      <td>...</td>\n",
       "      <td>1.239</td>\n",
       "      <td>0.0513</td>\n",
       "      <td>0.0</td>\n",
       "      <td>0.1238</td>\n",
       "      <td>0.9698</td>\n",
       "      <td>1.1275</td>\n",
       "      <td>1.9749</td>\n",
       "      <td>-6366.00</td>\n",
       "      <td>0.130</td>\n",
       "      <td>-1.0</td>\n",
       "    </tr>\n",
       "    <tr>\n",
       "      <th>4</th>\n",
       "      <td>298.9006</td>\n",
       "      <td>0.2205</td>\n",
       "      <td>0.0077</td>\n",
       "      <td>0.0044</td>\n",
       "      <td>0.1530</td>\n",
       "      <td>2.0150</td>\n",
       "      <td>3.2112</td>\n",
       "      <td>0.1302</td>\n",
       "      <td>6.6689</td>\n",
       "      <td>0.2679</td>\n",
       "      <td>...</td>\n",
       "      <td>1.541</td>\n",
       "      <td>0.0115</td>\n",
       "      <td>0.0</td>\n",
       "      <td>0.1230</td>\n",
       "      <td>1.6347</td>\n",
       "      <td>0.8697</td>\n",
       "      <td>1.6186</td>\n",
       "      <td>-5651.25</td>\n",
       "      <td>0.117</td>\n",
       "      <td>-1.0</td>\n",
       "    </tr>\n",
       "    <tr>\n",
       "      <th>...</th>\n",
       "      <td>...</td>\n",
       "      <td>...</td>\n",
       "      <td>...</td>\n",
       "      <td>...</td>\n",
       "      <td>...</td>\n",
       "      <td>...</td>\n",
       "      <td>...</td>\n",
       "      <td>...</td>\n",
       "      <td>...</td>\n",
       "      <td>...</td>\n",
       "      <td>...</td>\n",
       "      <td>...</td>\n",
       "      <td>...</td>\n",
       "      <td>...</td>\n",
       "      <td>...</td>\n",
       "      <td>...</td>\n",
       "      <td>...</td>\n",
       "      <td>...</td>\n",
       "      <td>...</td>\n",
       "      <td>...</td>\n",
       "      <td>...</td>\n",
       "    </tr>\n",
       "    <tr>\n",
       "      <th>1532</th>\n",
       "      <td>290.6424</td>\n",
       "      <td>0.1720</td>\n",
       "      <td>0.0198</td>\n",
       "      <td>0.0040</td>\n",
       "      <td>0.1995</td>\n",
       "      <td>2.0313</td>\n",
       "      <td>4.0458</td>\n",
       "      <td>0.1410</td>\n",
       "      <td>5.7757</td>\n",
       "      <td>0.3251</td>\n",
       "      <td>...</td>\n",
       "      <td>1.343</td>\n",
       "      <td>0.0177</td>\n",
       "      <td>0.0</td>\n",
       "      <td>0.1200</td>\n",
       "      <td>1.7585</td>\n",
       "      <td>1.1383</td>\n",
       "      <td>1.7799</td>\n",
       "      <td>-6047.00</td>\n",
       "      <td>0.167</td>\n",
       "      <td>-1.0</td>\n",
       "    </tr>\n",
       "    <tr>\n",
       "      <th>1533</th>\n",
       "      <td>323.1455</td>\n",
       "      <td>0.1437</td>\n",
       "      <td>0.0318</td>\n",
       "      <td>0.0051</td>\n",
       "      <td>0.1532</td>\n",
       "      <td>1.8920</td>\n",
       "      <td>3.5083</td>\n",
       "      <td>0.0480</td>\n",
       "      <td>5.9640</td>\n",
       "      <td>0.3417</td>\n",
       "      <td>...</td>\n",
       "      <td>1.343</td>\n",
       "      <td>0.0283</td>\n",
       "      <td>0.0</td>\n",
       "      <td>0.1212</td>\n",
       "      <td>1.6219</td>\n",
       "      <td>1.2731</td>\n",
       "      <td>1.7026</td>\n",
       "      <td>-6336.00</td>\n",
       "      <td>0.140</td>\n",
       "      <td>-1.0</td>\n",
       "    </tr>\n",
       "    <tr>\n",
       "      <th>1534</th>\n",
       "      <td>240.5196</td>\n",
       "      <td>0.2982</td>\n",
       "      <td>0.0307</td>\n",
       "      <td>0.0065</td>\n",
       "      <td>0.1415</td>\n",
       "      <td>2.0377</td>\n",
       "      <td>3.9915</td>\n",
       "      <td>0.1292</td>\n",
       "      <td>5.9402</td>\n",
       "      <td>0.2588</td>\n",
       "      <td>...</td>\n",
       "      <td>1.343</td>\n",
       "      <td>0.0145</td>\n",
       "      <td>0.0</td>\n",
       "      <td>0.1229</td>\n",
       "      <td>1.6603</td>\n",
       "      <td>0.9976</td>\n",
       "      <td>2.1294</td>\n",
       "      <td>-5932.00</td>\n",
       "      <td>0.421</td>\n",
       "      <td>-1.0</td>\n",
       "    </tr>\n",
       "    <tr>\n",
       "      <th>1535</th>\n",
       "      <td>271.2973</td>\n",
       "      <td>0.2094</td>\n",
       "      <td>0.0288</td>\n",
       "      <td>0.0068</td>\n",
       "      <td>0.1415</td>\n",
       "      <td>1.9860</td>\n",
       "      <td>3.7821</td>\n",
       "      <td>0.0908</td>\n",
       "      <td>5.9404</td>\n",
       "      <td>0.2588</td>\n",
       "      <td>...</td>\n",
       "      <td>1.343</td>\n",
       "      <td>0.0218</td>\n",
       "      <td>0.0</td>\n",
       "      <td>0.1243</td>\n",
       "      <td>1.6377</td>\n",
       "      <td>1.0652</td>\n",
       "      <td>1.8920</td>\n",
       "      <td>-5427.75</td>\n",
       "      <td>0.144</td>\n",
       "      <td>-1.0</td>\n",
       "    </tr>\n",
       "    <tr>\n",
       "      <th>1536</th>\n",
       "      <td>262.9132</td>\n",
       "      <td>0.3297</td>\n",
       "      <td>0.0289</td>\n",
       "      <td>0.0070</td>\n",
       "      <td>0.1240</td>\n",
       "      <td>1.8962</td>\n",
       "      <td>3.7250</td>\n",
       "      <td>0.0737</td>\n",
       "      <td>10.2177</td>\n",
       "      <td>0.1287</td>\n",
       "      <td>...</td>\n",
       "      <td>1.078</td>\n",
       "      <td>0.0187</td>\n",
       "      <td>0.0</td>\n",
       "      <td>0.1232</td>\n",
       "      <td>1.5565</td>\n",
       "      <td>1.0222</td>\n",
       "      <td>1.8525</td>\n",
       "      <td>-6467.25</td>\n",
       "      <td>0.169</td>\n",
       "      <td>-1.0</td>\n",
       "    </tr>\n",
       "  </tbody>\n",
       "</table>\n",
       "<p>1537 rows × 91 columns</p>\n",
       "</div>"
      ],
      "text/plain": [
       "      Sensor-296  Sensor-318  Sensor-292  Sensor-240  Sensor-308  Sensor-27  \\\n",
       "0       219.7309      0.1781      0.0122      0.0042      0.1628     1.8963   \n",
       "1       273.4683      0.0919      0.0476      0.0066      0.1220     1.8872   \n",
       "2       237.0724      0.1377      0.0273      0.0050      0.1379     1.9968   \n",
       "3       241.3994      0.1320      0.0156      0.0027      0.1636     1.8988   \n",
       "4       298.9006      0.2205      0.0077      0.0044      0.1530     2.0150   \n",
       "...          ...         ...         ...         ...         ...        ...   \n",
       "1532    290.6424      0.1720      0.0198      0.0040      0.1995     2.0313   \n",
       "1533    323.1455      0.1437      0.0318      0.0051      0.1532     1.8920   \n",
       "1534    240.5196      0.2982      0.0307      0.0065      0.1415     2.0377   \n",
       "1535    271.2973      0.2094      0.0288      0.0068      0.1415     1.9860   \n",
       "1536    262.9132      0.3297      0.0289      0.0070      0.1240     1.8962   \n",
       "\n",
       "      Sensor-460  Sensor-305  Sensor-155  Sensor-177  ...  Sensor-126  \\\n",
       "0         2.7826      0.0997      7.6305      0.3676  ...       1.314   \n",
       "1         3.1764      0.0313      7.3440      0.2439  ...       1.163   \n",
       "2         3.3534      0.1726      6.8631      0.2040  ...       1.163   \n",
       "3         3.5780      0.0530     10.6513      0.2246  ...       1.239   \n",
       "4         3.2112      0.1302      6.6689      0.2679  ...       1.541   \n",
       "...          ...         ...         ...         ...  ...         ...   \n",
       "1532      4.0458      0.1410      5.7757      0.3251  ...       1.343   \n",
       "1533      3.5083      0.0480      5.9640      0.3417  ...       1.343   \n",
       "1534      3.9915      0.1292      5.9402      0.2588  ...       1.343   \n",
       "1535      3.7821      0.0908      5.9404      0.2588  ...       1.343   \n",
       "1536      3.7250      0.0737     10.2177      0.1287  ...       1.078   \n",
       "\n",
       "      Sensor-282  Sensor-479  Sensor-8  Sensor-5  Sensor-68  Sensor-338  \\\n",
       "0         0.0154         0.0    0.1247    1.0980     0.8641      1.2731   \n",
       "1         0.0160         0.0    0.1210    0.9660     0.9892      1.1525   \n",
       "2         0.0138         0.0    0.1230    1.6347     0.8983      1.6024   \n",
       "3         0.0513         0.0    0.1238    0.9698     1.1275      1.9749   \n",
       "4         0.0115         0.0    0.1230    1.6347     0.8697      1.6186   \n",
       "...          ...         ...       ...       ...        ...         ...   \n",
       "1532      0.0177         0.0    0.1200    1.7585     1.1383      1.7799   \n",
       "1533      0.0283         0.0    0.1212    1.6219     1.2731      1.7026   \n",
       "1534      0.0145         0.0    0.1229    1.6603     0.9976      2.1294   \n",
       "1535      0.0218         0.0    0.1243    1.6377     1.0652      1.8920   \n",
       "1536      0.0187         0.0    0.1232    1.5565     1.0222      1.8525   \n",
       "\n",
       "      Sensor-22  Sensor-166  Good/Bad  \n",
       "0      -6273.75       0.146      -1.0  \n",
       "1      -6368.50       0.159      -1.0  \n",
       "2      -5319.25       0.124      -1.0  \n",
       "3      -6366.00       0.130      -1.0  \n",
       "4      -5651.25       0.117      -1.0  \n",
       "...         ...         ...       ...  \n",
       "1532   -6047.00       0.167      -1.0  \n",
       "1533   -6336.00       0.140      -1.0  \n",
       "1534   -5932.00       0.421      -1.0  \n",
       "1535   -5427.75       0.144      -1.0  \n",
       "1536   -6467.25       0.169      -1.0  \n",
       "\n",
       "[1537 rows x 91 columns]"
      ]
     },
     "execution_count": 77,
     "metadata": {},
     "output_type": "execute_result"
    }
   ],
   "source": [
    "df"
   ]
  },
  {
   "cell_type": "code",
   "execution_count": 78,
   "id": "21395f99",
   "metadata": {},
   "outputs": [],
   "source": [
    "df.to_csv(r\"C:\\Users\\karsa\\Downloads\\audax labs files\\Training_Batch_Files\\preprocessed.csv\", encoding='utf-8', index=False)"
   ]
  },
  {
   "cell_type": "code",
   "execution_count": null,
   "id": "fb94ba83",
   "metadata": {},
   "outputs": [],
   "source": []
  }
 ],
 "metadata": {
  "kernelspec": {
   "display_name": "Python 3 (ipykernel)",
   "language": "python",
   "name": "python3"
  },
  "language_info": {
   "codemirror_mode": {
    "name": "ipython",
    "version": 3
   },
   "file_extension": ".py",
   "mimetype": "text/x-python",
   "name": "python",
   "nbconvert_exporter": "python",
   "pygments_lexer": "ipython3",
   "version": "3.9.13"
  }
 },
 "nbformat": 4,
 "nbformat_minor": 5
}
