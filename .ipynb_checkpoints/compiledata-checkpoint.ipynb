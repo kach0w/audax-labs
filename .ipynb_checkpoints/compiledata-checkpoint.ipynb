{
 "cells": [
  {
   "cell_type": "markdown",
   "id": "5f072e8e",
   "metadata": {},
   "source": [
    "## Data Compiling"
   ]
  },
  {
   "cell_type": "code",
   "execution_count": 4,
   "id": "2239285d",
   "metadata": {},
   "outputs": [],
   "source": [
    "import pandas as pd\n",
    "import numpy as np\n",
    "from numpy import nan\n",
    "import os"
   ]
  },
  {
   "cell_type": "code",
   "execution_count": 5,
   "id": "24fa080d",
   "metadata": {},
   "outputs": [],
   "source": [
    "directory = r\"C:\\Users\\karsa\\Downloads\\audax labs files\\Training_Batch_Files\"\n",
    "dataframes = []\n",
    "for file in os.listdir(directory):\n",
    "    filename = os.fsdecode(file)\n",
    "    file_path = os.path.join(directory, filename)\n",
    "    dftemp = pd.read_csv(file_path, low_memory=False)\n",
    "    dataframes.append(dftemp)\n",
    "df = pd.concat(dataframes, ignore_index=True)\n",
    "df.to_csv(r\"C:\\Users\\karsa\\Downloads\\audax labs files\\Training_Batch_Files\\compiled.csv\", encoding='utf-8', index=False)"
   ]
  },
  {
   "cell_type": "code",
   "execution_count": 6,
   "id": "273f1551",
   "metadata": {},
   "outputs": [
    {
     "data": {
      "text/plain": [
       "(3980, 629)"
      ]
     },
     "execution_count": 6,
     "metadata": {},
     "output_type": "execute_result"
    }
   ],
   "source": [
    "df.shape"
   ]
  }
 ],
 "metadata": {
  "kernelspec": {
   "display_name": "Python 3 (ipykernel)",
   "language": "python",
   "name": "python3"
  },
  "language_info": {
   "codemirror_mode": {
    "name": "ipython",
    "version": 3
   },
   "file_extension": ".py",
   "mimetype": "text/x-python",
   "name": "python",
   "nbconvert_exporter": "python",
   "pygments_lexer": "ipython3",
   "version": "3.9.13"
  }
 },
 "nbformat": 4,
 "nbformat_minor": 5
}
