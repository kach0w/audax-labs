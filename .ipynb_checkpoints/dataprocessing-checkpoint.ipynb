{
 "cells": [
  {
   "cell_type": "code",
   "execution_count": 3,
   "id": "44e6db56",
   "metadata": {},
   "outputs": [
    {
     "name": "stdout",
     "output_type": "stream",
     "text": [
      "Requirement already satisfied: imblearn in c:\\users\\karsa\\anaconda3\\lib\\site-packages (0.0)\n",
      "Requirement already satisfied: imbalanced-learn in c:\\users\\karsa\\anaconda3\\lib\\site-packages (from imblearn) (0.11.0)\n",
      "Requirement already satisfied: joblib>=1.1.1 in c:\\users\\karsa\\anaconda3\\lib\\site-packages (from imbalanced-learn->imblearn) (1.3.2)\n",
      "Requirement already satisfied: scikit-learn>=1.0.2 in c:\\users\\karsa\\anaconda3\\lib\\site-packages (from imbalanced-learn->imblearn) (1.0.2)\n",
      "Requirement already satisfied: threadpoolctl>=2.0.0 in c:\\users\\karsa\\anaconda3\\lib\\site-packages (from imbalanced-learn->imblearn) (2.2.0)\n",
      "Requirement already satisfied: numpy>=1.17.3 in c:\\users\\karsa\\anaconda3\\lib\\site-packages (from imbalanced-learn->imblearn) (1.21.5)\n",
      "Requirement already satisfied: scipy>=1.5.0 in c:\\users\\karsa\\anaconda3\\lib\\site-packages (from imbalanced-learn->imblearn) (1.9.1)\n"
     ]
    }
   ],
   "source": [
    "!pip install imblearn\n",
    "import pandas as pd\n",
    "import numpy as np\n",
    "from numpy import nan\n",
    "import matplotlib.pyplot as plt\n",
    "import os\n",
    "from sklearn.impute import SimpleImputer\n",
    "from sklearn.model_selection import train_test_split\n",
    "from sklearn.naive_bayes import GaussianNB\n",
    "from sklearn.metrics import confusion_matrix\n",
    "import seaborn as sns\n",
    "from sklearn.feature_selection import f_classif\n",
    "from imblearn.over_sampling import SMOTE\n",
    "from collections import Counter"
   ]
  },
  {
   "cell_type": "code",
   "execution_count": 4,
   "id": "69530f21",
   "metadata": {},
   "outputs": [
    {
     "data": {
      "text/plain": [
       "(1537, 629)"
      ]
     },
     "execution_count": 4,
     "metadata": {},
     "output_type": "execute_result"
    }
   ],
   "source": [
    "#reads in the df and removes the rows that do not have a good/bad classification\n",
    "df = pd.read_csv(r\"C:\\Users\\karsa\\My Drive\\Extracurriculars\\Research\\Audax Labs\\compiled.csv\", low_memory=False)\n",
    "df = df[(df[\"Good/Bad\"] == -1) | (df[\"Good/Bad\"] == 1)]\n",
    "df.shape"
   ]
  },
  {
   "cell_type": "code",
   "execution_count": 5,
   "id": "8f8d722f",
   "metadata": {},
   "outputs": [
    {
     "data": {
      "text/plain": [
       "(1537, 532)"
      ]
     },
     "execution_count": 5,
     "metadata": {},
     "output_type": "execute_result"
    }
   ],
   "source": [
    "df = df.dropna(axis=1, thresh=1500);\n",
    "df.shape"
   ]
  },
  {
   "cell_type": "code",
   "execution_count": 6,
   "id": "e141e114",
   "metadata": {},
   "outputs": [],
   "source": [
    "numeric_cols = df.select_dtypes(include=np.number).columns\n",
    "numeric_cols = numeric_cols[:-1].tolist()"
   ]
  },
  {
   "cell_type": "code",
   "execution_count": 7,
   "id": "95d4a2f7",
   "metadata": {},
   "outputs": [],
   "source": [
    "#imputes the missing values\n",
    "imp = SimpleImputer(strategy='mean')\n",
    "df[numeric_cols] = imp.fit_transform(df[numeric_cols])"
   ]
  },
  {
   "cell_type": "code",
   "execution_count": 79,
   "id": "1004e176",
   "metadata": {},
   "outputs": [],
   "source": [
    "#remove all columns which only have zeros\n",
    "cols = []\n",
    "for col in df.columns:\n",
    "    if (df[col] == 0).all():\n",
    "        cols.append(col)\n",
    "\n",
    "if cols:\n",
    "    df.drop(columns=cols, inplace=True)\n",
    "    print(len(cols))"
   ]
  },
  {
   "cell_type": "code",
   "execution_count": 8,
   "id": "f776b20d",
   "metadata": {},
   "outputs": [
    {
     "name": "stdout",
     "output_type": "stream",
     "text": [
      "Numerical columns: Index(['Sensor-1', 'Sensor-2', 'Sensor-3', 'Sensor-4', 'Sensor-5', 'Sensor-6',\n",
      "       'Sensor-7', 'Sensor-8', 'Sensor-9', 'Sensor-10',\n",
      "       ...\n",
      "       'Sensor-577', 'Sensor-578', 'Sensor-583', 'Sensor-584', 'Sensor-585',\n",
      "       'Sensor-587', 'Sensor-588', 'Sensor-589', 'Sensor-590', 'Good/Bad'],\n",
      "      dtype='object', length=528)\n",
      "Categorical Columns: Index(['Unnamed: 0', 'Sensor-332', 'Sensor-576', 'Sensor-586'], dtype='object')\n"
     ]
    }
   ],
   "source": [
    "numerical_columns=df.columns[df.dtypes!='object']\n",
    "categorical_columns=df.columns[df.dtypes=='object']\n",
    "print(\"Numerical columns:\",numerical_columns)\n",
    "print('Categorical Columns:',categorical_columns)"
   ]
  },
  {
   "cell_type": "code",
   "execution_count": 33,
   "id": "6644ff8e",
   "metadata": {},
   "outputs": [
    {
     "data": {
      "text/html": [
       "<div>\n",
       "<style scoped>\n",
       "    .dataframe tbody tr th:only-of-type {\n",
       "        vertical-align: middle;\n",
       "    }\n",
       "\n",
       "    .dataframe tbody tr th {\n",
       "        vertical-align: top;\n",
       "    }\n",
       "\n",
       "    .dataframe thead th {\n",
       "        text-align: right;\n",
       "    }\n",
       "</style>\n",
       "<table border=\"1\" class=\"dataframe\">\n",
       "  <thead>\n",
       "    <tr style=\"text-align: right;\">\n",
       "      <th></th>\n",
       "      <th>Unnamed: 0</th>\n",
       "      <th>Sensor-332</th>\n",
       "      <th>Sensor-576</th>\n",
       "      <th>Sensor-586</th>\n",
       "    </tr>\n",
       "  </thead>\n",
       "  <tbody>\n",
       "    <tr>\n",
       "      <th>count</th>\n",
       "      <td>1537</td>\n",
       "      <td>1533</td>\n",
       "      <td>1537</td>\n",
       "      <td>1536</td>\n",
       "    </tr>\n",
       "    <tr>\n",
       "      <th>unique</th>\n",
       "      <td>1537</td>\n",
       "      <td>309</td>\n",
       "      <td>584</td>\n",
       "      <td>1473</td>\n",
       "    </tr>\n",
       "    <tr>\n",
       "      <th>top</th>\n",
       "      <td>Wafer-501</td>\n",
       "      <td>0.1017</td>\n",
       "      <td>0.0862</td>\n",
       "      <td>2.7619</td>\n",
       "    </tr>\n",
       "    <tr>\n",
       "      <th>freq</th>\n",
       "      <td>1</td>\n",
       "      <td>26</td>\n",
       "      <td>18</td>\n",
       "      <td>3</td>\n",
       "    </tr>\n",
       "  </tbody>\n",
       "</table>\n",
       "</div>"
      ],
      "text/plain": [
       "       Unnamed: 0 Sensor-332 Sensor-576 Sensor-586\n",
       "count        1537       1533       1537       1536\n",
       "unique       1537        309        584       1473\n",
       "top     Wafer-501     0.1017     0.0862     2.7619\n",
       "freq            1         26         18          3"
      ]
     },
     "execution_count": 33,
     "metadata": {},
     "output_type": "execute_result"
    }
   ],
   "source": [
    "df[categorical_columns].describe()"
   ]
  },
  {
   "cell_type": "code",
   "execution_count": 13,
   "id": "0f47e890",
   "metadata": {},
   "outputs": [
    {
     "data": {
      "text/plain": [
       "Good/Bad\n",
       "-1.0        1448\n",
       " 1.0          89\n",
       "dtype: int64"
      ]
     },
     "execution_count": 13,
     "metadata": {},
     "output_type": "execute_result"
    }
   ],
   "source": [
    "df.iloc[:, -1:].value_counts()\n",
    "#df = df.dropna(subset=[df.columns[-1]])\n",
    "#df.shape"
   ]
  },
  {
   "cell_type": "code",
   "execution_count": 27,
   "id": "d30b3347",
   "metadata": {},
   "outputs": [
    {
     "data": {
      "text/plain": [
       "(1537, 526)"
      ]
     },
     "execution_count": 27,
     "metadata": {},
     "output_type": "execute_result"
    }
   ],
   "source": [
    "#sets the X and Y\n",
    "X = df[numeric_cols].iloc[:, :-1]\n",
    "#X = df.iloc[:, :-1]\n",
    "Y = df.iloc[:, -1:]\n",
    "X.shape"
   ]
  },
  {
   "cell_type": "code",
   "execution_count": 28,
   "id": "e1cda417",
   "metadata": {},
   "outputs": [],
   "source": [
    "y = Y.to_numpy().flatten()"
   ]
  },
  {
   "cell_type": "code",
   "execution_count": 29,
   "id": "e84e7f18",
   "metadata": {},
   "outputs": [],
   "source": [
    "#train, test split\n",
    "X_train, X_test, y_train, y_test = train_test_split(X, y, test_size=0.4, random_state=42)"
   ]
  },
  {
   "cell_type": "code",
   "execution_count": 30,
   "id": "05191a49",
   "metadata": {},
   "outputs": [
    {
     "name": "stdout",
     "output_type": "stream",
     "text": [
      "Before Counter({-1.0: 866, 1.0: 56})\n",
      "After Counter({-1.0: 866, 1.0: 866})\n"
     ]
    }
   ],
   "source": [
    "#SMOTE Balancing\n",
    "counter = Counter(y_train)\n",
    "print('Before', counter)\n",
    "smt = SMOTE()\n",
    "X_train, y_train = smt.fit_resample(X_train, y_train)\n",
    "counter = Counter(y_train)\n",
    "print('After', counter)"
   ]
  },
  {
   "cell_type": "code",
   "execution_count": 31,
   "id": "1c593dac",
   "metadata": {},
   "outputs": [],
   "source": [
    "#running Naive Baiyes\n",
    "model = GaussianNB()\n",
    "model.fit(X_train, y_train)\n",
    "y_pred = model.predict(X_test)"
   ]
  },
  {
   "cell_type": "code",
   "execution_count": 92,
   "id": "8c071191",
   "metadata": {},
   "outputs": [
    {
     "data": {
      "image/png": "[encoded data removed]",
      "text/plain": [
       "<Figure size 640x480 with 2 Axes>"
      ]
     },
     "metadata": {},
     "output_type": "display_data"
    }
   ],
   "source": [
    "#confusion matrix\n",
    "conf = confusion_matrix(y_pred, y_test)\n",
    "sns.heatmap(conf, annot=True)\n",
    "plt.title(\"Confusion Matrix\")\n",
    "plt.xlabel(\"Predicted Label\")\n",
    "plt.ylabel(\"True Label\")\n",
    "plt.show()"
   ]
  },
  {
   "cell_type": "code",
   "execution_count": 94,
   "id": "031fb4fb",
   "metadata": {
    "scrolled": true
   },
   "outputs": [
    {
     "name": "stderr",
     "output_type": "stream",
     "text": [
      "C:\\Users\\karsa\\anaconda3\\lib\\site-packages\\sklearn\\feature_selection\\_univariate_selection.py:112: UserWarning: Features [ 5 41 48 67] are constant.\n",
      "  warnings.warn(\"Features %s are constant.\" % constant_features_idx, UserWarning)\n",
      "C:\\Users\\karsa\\anaconda3\\lib\\site-packages\\sklearn\\feature_selection\\_univariate_selection.py:113: RuntimeWarning: invalid value encountered in true_divide\n",
      "  f = msb / msw\n"
     ]
    },
    {
     "data": {
      "text/plain": [
       "['Sensor-349', 'Sensor-104', 'Sensor-511', 'Sensor-60', 'Sensor-130']"
      ]
     },
     "execution_count": 94,
     "metadata": {},
     "output_type": "execute_result"
    }
   ],
   "source": [
    "#getting the top 90* columns based on correlation\n",
    "f_values, p_values = f_classif(X, y)\n",
    "\n",
    "feature_names = X.columns\n",
    "feature_f_values = dict(zip(feature_names, f_values))\n",
    "feature_f_values = {key: value for key, value in feature_f_values.items() if value == value}\n",
    "sorted_features = sorted(feature_f_values.items(), key=lambda x: x[1], reverse=True)\n",
    "\n",
    "sorted_features = sorted_features[:90]\n",
    "high_corr_columns = [element[0] for element in sorted_features]\n",
    "high_corr_columns[:5]"
   ]
  },
  {
   "cell_type": "code",
   "execution_count": 96,
   "id": "6036273c",
   "metadata": {},
   "outputs": [
    {
     "data": {
      "text/plain": [
       "(1537, 91)"
      ]
     },
     "execution_count": 96,
     "metadata": {},
     "output_type": "execute_result"
    }
   ],
   "source": [
    "#creating the new df\n",
    "df = df[high_corr_columns]\n",
    "df[\"Good/Bad\"] = Y \n",
    "df.shape"
   ]
  },
  {
   "cell_type": "code",
   "execution_count": 97,
   "id": "21395f99",
   "metadata": {},
   "outputs": [],
   "source": [
    "df.to_csv(r\"C:\\Users\\karsa\\Downloads\\audax labs files\\Training_Batch_Files\\preprocessed.csv\", encoding='utf-8', index=False)"
   ]
  }
 ],
 "metadata": {
  "kernelspec": {
   "display_name": "Python 3 (ipykernel)",
   "language": "python",
   "name": "python3"
  },
  "language_info": {
   "codemirror_mode": {
    "name": "ipython",
    "version": 3
   },
   "file_extension": ".py",
   "mimetype": "text/x-python",
   "name": "python",
   "nbconvert_exporter": "python",
   "pygments_lexer": "ipython3",
   "version": "3.9.13"
  }
 },
 "nbformat": 4,
 "nbformat_minor": 5
}
